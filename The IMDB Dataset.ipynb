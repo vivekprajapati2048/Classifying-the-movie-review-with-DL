{
  "nbformat": 4,
  "nbformat_minor": 5,
  "metadata": {
    "kernelspec": {
      "name": "python3",
      "display_name": "Python 3"
    },
    "colab": {
      "name": "The IMDB Dataset.ipynb",
      "provenance": []
    },
    "language_info": {
      "name": "python"
    }
  },
  "cells": [
    {
      "cell_type": "markdown",
      "metadata": {
        "id": "AfXB1iBxstoK"
      },
      "source": [
        "# Loading the IMDB dataset"
      ],
      "id": "AfXB1iBxstoK"
    },
    {
      "cell_type": "code",
      "metadata": {
        "id": "empirical-modeling"
      },
      "source": [
        "from tensorflow.keras.datasets import imdb "
      ],
      "id": "empirical-modeling",
      "execution_count": 3,
      "outputs": []
    },
    {
      "cell_type": "markdown",
      "metadata": {
        "id": "PBqUBkw4soo_"
      },
      "source": [
        "The data is already preprocessed, ie., it is alreaady been turned into sequences of integers, where each integer stands for a specific word in a dictionary."
      ],
      "id": "PBqUBkw4soo_"
    },
    {
      "cell_type": "code",
      "metadata": {
        "colab": {
          "base_uri": "https://localhost:8080/"
        },
        "id": "secondary-intention",
        "outputId": "0e789238-44b2-4c64-e969-7470efd3607a"
      },
      "source": [
        "(train_data, train_labels), (test_data, test_labels) = imdb.load_data(num_words=10000) \n",
        "# num_words keeps the top 10k most frequently occuring words into training data"
      ],
      "id": "secondary-intention",
      "execution_count": 5,
      "outputs": [
        {
          "output_type": "stream",
          "text": [
            "<string>:6: VisibleDeprecationWarning: Creating an ndarray from ragged nested sequences (which is a list-or-tuple of lists-or-tuples-or ndarrays with different lengths or shapes) is deprecated. If you meant to do this, you must specify 'dtype=object' when creating the ndarray\n",
            "/usr/local/lib/python3.7/dist-packages/tensorflow/python/keras/datasets/imdb.py:159: VisibleDeprecationWarning: Creating an ndarray from ragged nested sequences (which is a list-or-tuple of lists-or-tuples-or ndarrays with different lengths or shapes) is deprecated. If you meant to do this, you must specify 'dtype=object' when creating the ndarray\n",
            "  x_train, y_train = np.array(xs[:idx]), np.array(labels[:idx])\n",
            "/usr/local/lib/python3.7/dist-packages/tensorflow/python/keras/datasets/imdb.py:160: VisibleDeprecationWarning: Creating an ndarray from ragged nested sequences (which is a list-or-tuple of lists-or-tuples-or ndarrays with different lengths or shapes) is deprecated. If you meant to do this, you must specify 'dtype=object' when creating the ndarray\n",
            "  x_test, y_test = np.array(xs[idx:]), np.array(labels[idx:])\n"
          ],
          "name": "stderr"
        }
      ]
    },
    {
      "cell_type": "code",
      "metadata": {
        "colab": {
          "base_uri": "https://localhost:8080/"
        },
        "id": "connected-oakland",
        "outputId": "2b7e70cb-3567-49e5-f826-f8cd0dfe3045"
      },
      "source": [
        "train_data[0] # list of word indices (encoding a sequence of words)\n",
        "train_labels[0] # review ie., 0 = negative, 1 = positive"
      ],
      "id": "connected-oakland",
      "execution_count": 6,
      "outputs": [
        {
          "output_type": "execute_result",
          "data": {
            "text/plain": [
              "1"
            ]
          },
          "metadata": {
            "tags": []
          },
          "execution_count": 6
        }
      ]
    },
    {
      "cell_type": "code",
      "metadata": {
        "colab": {
          "base_uri": "https://localhost:8080/"
        },
        "id": "imposed-happening",
        "outputId": "7df97d21-8a1b-4adf-afa6-0705354f3b3a"
      },
      "source": [
        "max([max(sequence) for sequence in train_data]) # because top 10k words only"
      ],
      "id": "imposed-happening",
      "execution_count": 7,
      "outputs": [
        {
          "output_type": "execute_result",
          "data": {
            "text/plain": [
              "9999"
            ]
          },
          "metadata": {
            "tags": []
          },
          "execution_count": 7
        }
      ]
    },
    {
      "cell_type": "code",
      "metadata": {
        "colab": {
          "base_uri": "https://localhost:8080/",
          "height": 274
        },
        "id": "analyzed-arkansas",
        "outputId": "1ed63723-1c51-4111-cba0-039b3c9923e9"
      },
      "source": [
        "# decode one of the review bace into English\n",
        "word_index = imdb.get_word_index() # word_index is a dictionary mapping words to an integer index\n",
        "reverse_word_index = dict([(value, key) for (key, value) in word_index.items()]) # mapping integers to word\n",
        "decode_review0 = ' '.join([reverse_word_index.get(i-3, '?') for i in train_data[0]]) # decode the review\n",
        "\n",
        "decode_review0"
      ],
      "id": "analyzed-arkansas",
      "execution_count": 8,
      "outputs": [
        {
          "output_type": "stream",
          "text": [
            "Downloading data from https://storage.googleapis.com/tensorflow/tf-keras-datasets/imdb_word_index.json\n",
            "1646592/1641221 [==============================] - 0s 0us/step\n"
          ],
          "name": "stdout"
        },
        {
          "output_type": "execute_result",
          "data": {
            "application/vnd.google.colaboratory.intrinsic+json": {
              "type": "string"
            },
            "text/plain": [
              "\"? this film was just brilliant casting location scenery story direction everyone's really suited the part they played and you could just imagine being there robert ? is an amazing actor and now the same being director ? father came from the same scottish island as myself so i loved the fact there was a real connection with this film the witty remarks throughout the film were great it was just brilliant so much that i bought the film as soon as it was released for ? and would recommend it to everyone to watch and the fly fishing was amazing really cried at the end it was so sad and you know what they say if you cry at a film it must have been good and this definitely was also ? to the two little boy's that played the ? of norman and paul they were just brilliant children are often left out of the ? list i think because the stars that play them all grown up are such a big profile for the whole film but these children are amazing and should be praised for what they have done don't you think the whole story was so lovely because it was true and was someone's life after all that was shared with us all\""
            ]
          },
          "metadata": {
            "tags": []
          },
          "execution_count": 8
        }
      ]
    },
    {
      "cell_type": "markdown",
      "metadata": {
        "id": "located-assumption"
      },
      "source": [
        "# Prepare the data:\n",
        "You can't feed the list to neural network, you have to turn it into tensors. There are two ways:\n",
        "- Pad your list so that they have all the same length, turn them into an integer tensor of shape (samples, word_indices), and then use as the first layer of your network. (Embedding layer - capable of handling such integer tensors)  \n",
        "- One-hot encode your list to turn them into vectors of 0s and 1s. ie., for sequence [3, 5] all will be 0s in 10k dimensional vector except for indices 3 and 5 (these will be 1s). (Dense Layers - capable of handling such floating point vector data)."
      ],
      "id": "located-assumption"
    },
    {
      "cell_type": "code",
      "metadata": {
        "id": "marked-wednesday"
      },
      "source": [
        "# Encoding the integer sequences into a binary matrix\n",
        "import numpy as np\n",
        "\n",
        "def vectorize_sequences(sequences, dimension=10000):\n",
        "    results = np.zeros((len(sequences), dimension)) # create all zeros matrix of shape)\n",
        "    for i, sequence in enumerate(sequences):\n",
        "        results[i, sequence] = 1. # set specific indices of result[i] to 1s\n",
        "    return results\n",
        "\n",
        "X_train = vectorize_sequences(train_data)\n",
        "X_test = vectorize_sequences(test_data)\n",
        "\n",
        "# also vectorize the test labels\n",
        "y_train = np.asarray(train_labels).astype('float32')\n",
        "y_test = np.asarray(test_labels).astype('float32')"
      ],
      "id": "marked-wednesday",
      "execution_count": 13,
      "outputs": []
    },
    {
      "cell_type": "code",
      "metadata": {
        "colab": {
          "base_uri": "https://localhost:8080/"
        },
        "id": "noticed-appointment",
        "outputId": "c037630f-afa6-478d-8493-03723031ab9c"
      },
      "source": [
        "X_train[0]\n",
        "#y_train"
      ],
      "id": "noticed-appointment",
      "execution_count": 22,
      "outputs": [
        {
          "output_type": "execute_result",
          "data": {
            "text/plain": [
              "array([0., 1., 1., ..., 0., 0., 0.])"
            ]
          },
          "metadata": {
            "tags": []
          },
          "execution_count": 22
        }
      ]
    },
    {
      "cell_type": "markdown",
      "metadata": {
        "id": "5FW2EtJct5gb"
      },
      "source": [
        "# Building the network\n",
        "Input data is vectors and the labels are scalars. Therefore, a stack of dense layer with relu activation function will perform well."
      ],
      "id": "5FW2EtJct5gb"
    },
    {
      "cell_type": "code",
      "metadata": {
        "id": "_ac35Yq6tKSv"
      },
      "source": [
        "from tensorflow import keras\n",
        "from tensorflow.keras import layers\n",
        "\n",
        "# model define\n",
        "model = keras.Sequential([\n",
        "                          layers.Dense(16, activation='relu'),\n",
        "                          layers.Dense(16, activation='relu'),\n",
        "                          layers.Dense(1, activation='sigmoid')\n",
        "])\n",
        "\n",
        "\n",
        "# compiling the model\n",
        "model.compile(optimizer='rmsprop',\n",
        "              loss='binary_crossentropy',\n",
        "              metrics=['accuracy'])\n"
      ],
      "id": "_ac35Yq6tKSv",
      "execution_count": 25,
      "outputs": []
    },
    {
      "cell_type": "markdown",
      "metadata": {
        "id": "jrqWdnAk002x"
      },
      "source": [
        "# Validating the approach"
      ],
      "id": "jrqWdnAk002x"
    },
    {
      "cell_type": "code",
      "metadata": {
        "id": "koDGEA_yxqpA"
      },
      "source": [
        "X_val = X_train[:10000]\n",
        "partial_X_train = X_train[10000:]\n",
        "\n",
        "y_val = y_train[:10000]\n",
        "partial_y_train = y_train[10000:]"
      ],
      "id": "koDGEA_yxqpA",
      "execution_count": 26,
      "outputs": []
    },
    {
      "cell_type": "markdown",
      "metadata": {
        "id": "Wrr8LvOK1M3E"
      },
      "source": [
        "# Training the model"
      ],
      "id": "Wrr8LvOK1M3E"
    },
    {
      "cell_type": "code",
      "metadata": {
        "colab": {
          "base_uri": "https://localhost:8080/"
        },
        "id": "YUxMTfB71Gnf",
        "outputId": "0c18f9f2-fa1f-4f97-900d-a1c4bd225f8c"
      },
      "source": [
        "history = model.fit(partial_X_train, partial_y_train,\n",
        "                    epochs=20,\n",
        "                    batch_size=512,\n",
        "                    validation_data=(X_val, y_val))"
      ],
      "id": "YUxMTfB71Gnf",
      "execution_count": 27,
      "outputs": [
        {
          "output_type": "stream",
          "text": [
            "Epoch 1/20\n",
            "30/30 [==============================] - 5s 109ms/step - loss: 0.6239 - accuracy: 0.6780 - val_loss: 0.4398 - val_accuracy: 0.8440\n",
            "Epoch 2/20\n",
            "30/30 [==============================] - 1s 35ms/step - loss: 0.3732 - accuracy: 0.8869 - val_loss: 0.3235 - val_accuracy: 0.8828\n",
            "Epoch 3/20\n",
            "30/30 [==============================] - 1s 36ms/step - loss: 0.2566 - accuracy: 0.9222 - val_loss: 0.2849 - val_accuracy: 0.8882\n",
            "Epoch 4/20\n",
            "30/30 [==============================] - 1s 35ms/step - loss: 0.1933 - accuracy: 0.9369 - val_loss: 0.2782 - val_accuracy: 0.8887\n",
            "Epoch 5/20\n",
            "30/30 [==============================] - 1s 35ms/step - loss: 0.1504 - accuracy: 0.9539 - val_loss: 0.2912 - val_accuracy: 0.8834\n",
            "Epoch 6/20\n",
            "30/30 [==============================] - 1s 36ms/step - loss: 0.1247 - accuracy: 0.9617 - val_loss: 0.2934 - val_accuracy: 0.8856\n",
            "Epoch 7/20\n",
            "30/30 [==============================] - 1s 36ms/step - loss: 0.1027 - accuracy: 0.9717 - val_loss: 0.3042 - val_accuracy: 0.8828\n",
            "Epoch 8/20\n",
            "30/30 [==============================] - 1s 35ms/step - loss: 0.0862 - accuracy: 0.9768 - val_loss: 0.3198 - val_accuracy: 0.8813\n",
            "Epoch 9/20\n",
            "30/30 [==============================] - 1s 35ms/step - loss: 0.0694 - accuracy: 0.9821 - val_loss: 0.3531 - val_accuracy: 0.8794\n",
            "Epoch 10/20\n",
            "30/30 [==============================] - 1s 36ms/step - loss: 0.0586 - accuracy: 0.9845 - val_loss: 0.3683 - val_accuracy: 0.8773\n",
            "Epoch 11/20\n",
            "30/30 [==============================] - 1s 35ms/step - loss: 0.0454 - accuracy: 0.9903 - val_loss: 0.3971 - val_accuracy: 0.8758\n",
            "Epoch 12/20\n",
            "30/30 [==============================] - 1s 35ms/step - loss: 0.0370 - accuracy: 0.9919 - val_loss: 0.4354 - val_accuracy: 0.8698\n",
            "Epoch 13/20\n",
            "30/30 [==============================] - 1s 36ms/step - loss: 0.0302 - accuracy: 0.9941 - val_loss: 0.4491 - val_accuracy: 0.8727\n",
            "Epoch 14/20\n",
            "30/30 [==============================] - 1s 35ms/step - loss: 0.0234 - accuracy: 0.9964 - val_loss: 0.5063 - val_accuracy: 0.8653\n",
            "Epoch 15/20\n",
            "30/30 [==============================] - 1s 35ms/step - loss: 0.0190 - accuracy: 0.9976 - val_loss: 0.5209 - val_accuracy: 0.8675\n",
            "Epoch 16/20\n",
            "30/30 [==============================] - 1s 35ms/step - loss: 0.0145 - accuracy: 0.9983 - val_loss: 0.5684 - val_accuracy: 0.8656\n",
            "Epoch 17/20\n",
            "30/30 [==============================] - 1s 35ms/step - loss: 0.0120 - accuracy: 0.9991 - val_loss: 0.5862 - val_accuracy: 0.8675\n",
            "Epoch 18/20\n",
            "30/30 [==============================] - 1s 36ms/step - loss: 0.0088 - accuracy: 0.9991 - val_loss: 0.6207 - val_accuracy: 0.8670\n",
            "Epoch 19/20\n",
            "30/30 [==============================] - 1s 35ms/step - loss: 0.0058 - accuracy: 0.9996 - val_loss: 0.6856 - val_accuracy: 0.8628\n",
            "Epoch 20/20\n",
            "30/30 [==============================] - 1s 34ms/step - loss: 0.0061 - accuracy: 0.9993 - val_loss: 0.6934 - val_accuracy: 0.8649\n"
          ],
          "name": "stdout"
        }
      ]
    },
    {
      "cell_type": "markdown",
      "metadata": {
        "id": "kf622Rq213Hw"
      },
      "source": [
        "# Plotting the history"
      ],
      "id": "kf622Rq213Hw"
    },
    {
      "cell_type": "code",
      "metadata": {
        "colab": {
          "base_uri": "https://localhost:8080/"
        },
        "id": "rqj8PBps1mnM",
        "outputId": "af3866d9-3a7d-48e5-9ca0-3f4d215d740f"
      },
      "source": [
        "history_dict = history.history\n",
        "history_dict.keys()"
      ],
      "id": "rqj8PBps1mnM",
      "execution_count": 28,
      "outputs": [
        {
          "output_type": "execute_result",
          "data": {
            "text/plain": [
              "dict_keys(['loss', 'accuracy', 'val_loss', 'val_accuracy'])"
            ]
          },
          "metadata": {
            "tags": []
          },
          "execution_count": 28
        }
      ]
    },
    {
      "cell_type": "code",
      "metadata": {
        "colab": {
          "base_uri": "https://localhost:8080/",
          "height": 295
        },
        "id": "DhG4eUfO2BOE",
        "outputId": "c0a3a725-0e64-4226-c60f-8830099e6bd6"
      },
      "source": [
        "# plotting loss\n",
        "import matplotlib.pyplot as plt\n",
        "\n",
        "loss_values = history_dict['loss']\n",
        "val_loss_values = history_dict['val_loss']\n",
        "\n",
        "epochs = range(1, len(loss_values)+1)\n",
        "\n",
        "plt.plot(epochs, loss_values, 'bo', label='Training loss')\n",
        "plt.plot(epochs, val_loss_values, 'b', label='Validation loss')\n",
        "\n",
        "plt.title('Training and Validation loss')\n",
        "plt.xlabel('Epochs')\n",
        "plt.ylabel('Loss')\n",
        "plt.legend()\n",
        "plt.show()"
      ],
      "id": "DhG4eUfO2BOE",
      "execution_count": 29,
      "outputs": [
        {
          "output_type": "display_data",
          "data": {
            "image/png": "[encoded data removed]",
            "text/plain": [
              "<Figure size 432x288 with 1 Axes>"
            ]
          },
          "metadata": {
            "tags": [],
            "needs_background": "light"
          }
        }
      ]
    },
    {
      "cell_type": "code",
      "metadata": {
        "colab": {
          "base_uri": "https://localhost:8080/",
          "height": 295
        },
        "id": "4FO0SHEM3Mqd",
        "outputId": "e82f094a-3a0d-4cd5-e124-696aeee76a9a"
      },
      "source": [
        "# plotting accuracy\n",
        "\n",
        "acc = history_dict['accuracy']\n",
        "val_acc = history_dict['val_accuracy']\n",
        "\n",
        "plt.plot(epochs, acc, 'bo', label='Training acc')\n",
        "plt.plot(epochs, val_acc, 'b', label='Validation acc')\n",
        "\n",
        "plt.title('Training and Validation loss')\n",
        "plt.xlabel('Epochs')\n",
        "plt.ylabel('Accuracy')\n",
        "plt.legend()\n",
        "plt.show()"
      ],
      "id": "4FO0SHEM3Mqd",
      "execution_count": 33,
      "outputs": [
        {
          "output_type": "display_data",
          "data": {
            "image/png": "[encoded data removed]",
            "text/plain": [
              "<Figure size 432x288 with 1 Axes>"
            ]
          },
          "metadata": {
            "tags": [],
            "needs_background": "light"
          }
        }
      ]
    },
    {
      "cell_type": "markdown",
      "metadata": {
        "id": "_zVZfnBe4R1W"
      },
      "source": [
        "The model is overfitting as we can see at fourth epoch the validation loss is increases. Therefore let's try training the model from scratch for 3 epochs.\n",
        "# Retraining the model"
      ],
      "id": "_zVZfnBe4R1W"
    },
    {
      "cell_type": "code",
      "metadata": {
        "colab": {
          "base_uri": "https://localhost:8080/"
        },
        "id": "MLEBIovK3x3a",
        "outputId": "684af4bc-bef0-4769-a915-a1760cbe8150"
      },
      "source": [
        "model = keras.Sequential([\n",
        "                          layers.Dense(16, activation='relu'),\n",
        "                          layers.Dense(16, activation='relu'),\n",
        "                          layers.Dense(1, activation='sigmoid')\n",
        "])\n",
        "\n",
        "model.compile(optimizer='rmsprop', \n",
        "              loss='binary_crossentropy',\n",
        "              metrics=['accuracy'])\n",
        "\n",
        "model.fit(X_train, y_train,\n",
        "          epochs=4, batch_size=512)\n",
        "\n",
        "results = model.evaluate(X_test, y_test)"
      ],
      "id": "MLEBIovK3x3a",
      "execution_count": 34,
      "outputs": [
        {
          "output_type": "stream",
          "text": [
            "Epoch 1/4\n",
            "49/49 [==============================] - 2s 25ms/step - loss: 0.5421 - accuracy: 0.7341\n",
            "Epoch 2/4\n",
            "49/49 [==============================] - 1s 24ms/step - loss: 0.2591 - accuracy: 0.9147\n",
            "Epoch 3/4\n",
            "49/49 [==============================] - 1s 24ms/step - loss: 0.2026 - accuracy: 0.9301\n",
            "Epoch 4/4\n",
            "49/49 [==============================] - 1s 24ms/step - loss: 0.1597 - accuracy: 0.9453\n",
            "782/782 [==============================] - 1s 1ms/step - loss: 0.2966 - accuracy: 0.8832\n"
          ],
          "name": "stdout"
        }
      ]
    },
    {
      "cell_type": "code",
      "metadata": {
        "colab": {
          "base_uri": "https://localhost:8080/"
        },
        "id": "J9wB8zPF502t",
        "outputId": "5b30e494-3f5e-412f-8740-90ccf2f5f7f1"
      },
      "source": [
        "results"
      ],
      "id": "J9wB8zPF502t",
      "execution_count": 35,
      "outputs": [
        {
          "output_type": "execute_result",
          "data": {
            "text/plain": [
              "[0.296592652797699, 0.8831599950790405]"
            ]
          },
          "metadata": {
            "tags": []
          },
          "execution_count": 35
        }
      ]
    },
    {
      "cell_type": "code",
      "metadata": {
        "colab": {
          "base_uri": "https://localhost:8080/"
        },
        "id": "YyaZ7fa057dw",
        "outputId": "8ba1db84-311f-4d69-9e36-248847c20c81"
      },
      "source": [
        "# if you want to use the model to generate predictions on a new data\n",
        "model.predict(X_test)"
      ],
      "id": "YyaZ7fa057dw",
      "execution_count": 37,
      "outputs": [
        {
          "output_type": "execute_result",
          "data": {
            "text/plain": [
              "array([[0.17941326],\n",
              "       [0.9996601 ],\n",
              "       [0.6825386 ],\n",
              "       ...,\n",
              "       [0.12928095],\n",
              "       [0.06246841],\n",
              "       [0.5974989 ]], dtype=float32)"
            ]
          },
          "metadata": {
            "tags": []
          },
          "execution_count": 37
        }
      ]
    },
    {
      "cell_type": "code",
      "metadata": {
        "id": "V6JgWF4C6Ddk"
      },
      "source": [
        ""
      ],
      "id": "V6JgWF4C6Ddk",
      "execution_count": null,
      "outputs": []
    }
  ]
}